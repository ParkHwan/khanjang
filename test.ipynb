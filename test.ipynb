{
 "cells": [
  {
   "cell_type": "code",
   "execution_count": 2,
   "metadata": {},
   "outputs": [
    {
     "name": "stdout",
     "output_type": "stream",
     "text": [
      "{29704982: [{'성별': '암컷', '나이(개월)': 360, '촬영 장소': '실내'}, {'성별': '암컷', '나이(개월)': 198, '촬영 장소': '실외'}, {'성별': '수컷', '나이(개월)': 60, '촬영 장소': '실내'}, {'성별': '수컷', '나이(개월)': 72, '촬영 장소': '실내'}], 30009189: [{'성별': '암컷', '나이(개월)': 48, '촬영 장소': '실내'}, {'성별': '수컷', '나이(개월)': 72, '촬영 장소': '실내'}, {'성별': '수컷', '나이(개월)': 20, '촬영 장소': '실내'}, {'성별': '수컷', '나이(개월)': 144, '촬영 장소': '실내'}, {'성별': '수컷', '나이(개월)': 20, '촬영 장소': '실내'}], 29778525: [{'성별': '수컷', '나이(개월)': 18, '촬영 장소': '실내'}, {'성별': '수컷', '나이(개월)': 24, '촬영 장소': '실외'}, {'성별': '수컷', '나이(개월)': 6, '촬영 장소': '실내'}, {'성별': '암컷', '나이(개월)': 18, '촬영 장소': '실내'}], 29793292: [{'성별': '암컷', '나이(개월)': 120, '촬영 장소': '실내'}, {'성별': '수컷', '나이(개월)': 43, '촬영 장소': '실외'}, {'성별': '수컷', '나이(개월)': 77, '촬영 장소': '실내'}, {'성별': '수컷', '나이(개월)': 100, '촬영 장소': '실내'}], 30091656: [{'성별': '수컷', '나이(개월)': 20, '촬영 장소': '실내'}, {'성별': '수컷', '나이(개월)': 144, '촬영 장소': '실외'}, {'성별': '수컷', '나이(개월)': 6, '촬영 장소': '실내'}, {'성별': '수컷', '나이(개월)': 2, '촬영 장소': '실외'}, {'성별': '수컷', '나이(개월)': 14, '촬영 장소': '실내'}, {'성별': '수컷', '나이(개월)': 20, '촬영 장소': '실내'}, {'성별': '수컷', '나이(개월)': 6, '촬영 장소': '실내'}], 29810908: [{'성별': '수컷', '나이(개월)': 48, '촬영 장소': '실내'}]}\n"
     ]
    }
   ],
   "source": [
    "import pandas as pd\n",
    "import json\n",
    "\n",
    "test = pd.read_csv(\"data/problem_1_input.csv\", encoding=\"utf-8\")\n",
    "dict = test.to_dict(orient=\"index\")\n",
    "dict_data = {}\n",
    "for data in dict.values():\n",
    "    key = data.pop(\"data_id\")\n",
    "    if key in dict_data:\n",
    "        dict_data[key].append(data)\n",
    "    else:\n",
    "        dict_data[key] = [data]\n",
    "print(dict_data)\n",
    "\n",
    "with open('output/problem_1_output.json','w', encoding=\"utf-8\") as f:\n",
    "    json.dump(dict_data, f, indent=4, ensure_ascii=False, sort_keys=True)\n"
   ]
  },
  {
   "cell_type": "code",
   "execution_count": null,
   "metadata": {},
   "outputs": [],
   "source": [
    "from collections import defaultdict\n",
    "import pandas as pd\n",
    "import json\n",
    "\n",
    "\n",
    "# 파일 경로 설정\n",
    "input1_file_path = '/content/problem_1_input.csv'\n",
    "output1_file_path = '/content/problem_1_output.json'\n",
    "\n",
    "# 입력 파일 불러오기\n",
    "df_input1 = pd.read_csv(input1_file_path)\n",
    "dict_output1 = defaultdict(list)\n",
    "\n",
    "# 입력 파일을 json으로 변환\n",
    "for idx, row in df_input1.sort_values(\"data_id\").iterrows():\n",
    "  key = row.pop(\"data_id\")\n",
    "  dict_output1[key].append(dict(row))\n",
    "json_output1 = json.dumps(dict_output1, ensure_ascii=False, indent=4)\n",
    "\n",
    "# json 저장\n",
    "with open(output1_file_path, \"w\") as file:\n",
    "  file.write(json_output1)"
   ]
  },
  {
   "cell_type": "code",
   "execution_count": 25,
   "metadata": {},
   "outputs": [
    {
     "data": {
      "text/plain": [
       "'{\"0\":{\"data_id\":29704982,\"성별\":\"암컷\",\"나이(개월)\":360,\"촬영 장소\":\"실내\"},\"1\":{\"data_id\":30009189,\"성별\":\"암컷\",\"나이(개월)\":48,\"촬영 장소\":\"실내\"},\"2\":{\"data_id\":29778525,\"성별\":\"수컷\",\"나이(개월)\":18,\"촬영 장소\":\"실내\"},\"3\":{\"data_id\":29793292,\"성별\":\"암컷\",\"나이(개월)\":120,\"촬영 장소\":\"실내\"},\"4\":{\"data_id\":30091656,\"성별\":\"수컷\",\"나이(개월)\":20,\"촬영 장소\":\"실내\"},\"5\":{\"data_id\":30091656,\"성별\":\"수컷\",\"나이(개월)\":144,\"촬영 장소\":\"실외\"},\"6\":{\"data_id\":29704982,\"성별\":\"암컷\",\"나이(개월)\":198,\"촬영 장소\":\"실외\"},\"7\":{\"data_id\":29793292,\"성별\":\"수컷\",\"나이(개월)\":43,\"촬영 장소\":\"실외\"},\"8\":{\"data_id\":30009189,\"성별\":\"수컷\",\"나이(개월)\":72,\"촬영 장소\":\"실내\"},\"9\":{\"data_id\":30091656,\"성별\":\"수컷\",\"나이(개월)\":6,\"촬영 장소\":\"실내\"},\"10\":{\"data_id\":30009189,\"성별\":\"수컷\",\"나이(개월)\":20,\"촬영 장소\":\"실내\"},\"11\":{\"data_id\":29778525,\"성별\":\"수컷\",\"나이(개월)\":24,\"촬영 장소\":\"실외\"},\"12\":{\"data_id\":29704982,\"성별\":\"수컷\",\"나이(개월)\":60,\"촬영 장소\":\"실내\"},\"13\":{\"data_id\":30091656,\"성별\":\"수컷\",\"나이(개월)\":2,\"촬영 장소\":\"실외\"},\"14\":{\"data_id\":29793292,\"성별\":\"수컷\",\"나이(개월)\":77,\"촬영 장소\":\"실내\"},\"15\":{\"data_id\":29704982,\"성별\":\"수컷\",\"나이(개월)\":72,\"촬영 장소\":\"실내\"},\"16\":{\"data_id\":29793292,\"성별\":\"수컷\",\"나이(개월)\":100,\"촬영 장소\":\"실내\"},\"17\":{\"data_id\":29778525,\"성별\":\"수컷\",\"나이(개월)\":6,\"촬영 장소\":\"실내\"},\"18\":{\"data_id\":30009189,\"성별\":\"수컷\",\"나이(개월)\":144,\"촬영 장소\":\"실내\"},\"19\":{\"data_id\":30091656,\"성별\":\"수컷\",\"나이(개월)\":14,\"촬영 장소\":\"실내\"},\"20\":{\"data_id\":29778525,\"성별\":\"암컷\",\"나이(개월)\":18,\"촬영 장소\":\"실내\"},\"21\":{\"data_id\":30091656,\"성별\":\"수컷\",\"나이(개월)\":20,\"촬영 장소\":\"실내\"},\"22\":{\"data_id\":30009189,\"성별\":\"수컷\",\"나이(개월)\":20,\"촬영 장소\":\"실내\"},\"23\":{\"data_id\":29810908,\"성별\":\"수컷\",\"나이(개월)\":48,\"촬영 장소\":\"실내\"},\"24\":{\"data_id\":30091656,\"성별\":\"수컷\",\"나이(개월)\":6,\"촬영 장소\":\"실내\"}}'"
      ]
     },
     "execution_count": 25,
     "metadata": {},
     "output_type": "execute_result"
    }
   ],
   "source": [
    "dict"
   ]
  },
  {
   "cell_type": "code",
   "execution_count": 3,
   "metadata": {},
   "outputs": [
    {
     "name": "stdout",
     "output_type": "stream",
     "text": [
      "rome\n",
      "paris\n",
      "newyork\n",
      "paris\n",
      "delhi\n",
      "{'rome': [1], 'paris': [2, 4], 'newyork': [3], 'delhi': [1]}\n"
     ]
    }
   ],
   "source": [
    "s = [('rome', 1), ('paris', 2), ('newyork', 3), ('paris', 4), ('delhi', 1)]\n",
    "data_dict = {}\n",
    "for x in s:\n",
    "    print(x[0])\n",
    "    data_dict.setdefault(x[0],[]).append(x[1])\n",
    "print(data_dict)"
   ]
  },
  {
   "cell_type": "code",
   "execution_count": 4,
   "metadata": {},
   "outputs": [
    {
     "name": "stdout",
     "output_type": "stream",
     "text": [
      "{'fields': [{'id': 999, 'name': 'Group', 'uid': 'QWHUM4', 'values': {'label': 'object', 'name': 'object', 'children': [{'label': '사람', 'value': '1'}, {'label': '액자', 'value': '2'}, {'label': '의자', 'value': '3'}, {'label': '책상', 'value': '4'}], 'condition': {'targetId': '', 'targetUid': '', 'operator': '', 'targetValue': '', 'selectValue': ''}}, 'updateDate': 1639642191982}, {'id': 999, 'name': 'Group', 'uid': '7B1FTN', 'values': {'label': 'color', 'name': 'color', 'minSelectLength': '', 'maxSelectLength': '2', 'children': [{'label': '빨강', 'value': '1'}, {'label': '파랑', 'value': '2'}, {'label': '초록', 'value': '3'}, {'label': '노랑', 'value': '4'}]}, 'updateDate': 1639642282081}], 'results': [{'object': '3', 'color': ['1', False, '3', False]}, {'object': '1', 'color': [False, False, '3', False]}, {'object': '1', 'color': [False, False, False, '4']}, {'object': '2', 'color': ['1', False, False, '4']}, {'object': '2', 'color': [False, False, '3', '4']}], 'works': {'dataId': 'dataId', 'sourceId': 'sourceId', 'workerName': 'Worker', 'checkerName': 'Checker', 'histories': [], 'version': {'build': '1.11.2', 'result': '1.5'}}}\n"
     ]
    }
   ],
   "source": [
    "import json\n",
    "\n",
    "with open(\"data/problem_2_input.json.1\", \"r\", encoding=\"utf-8\") as f:\n",
    "    json_data = json.load(f)\n",
    "print(json_data)\n",
    "object_dict = {}\n",
    "fields_object_data = json_data[\"fields\"][0][\"values\"]\n",
    "fields_color_data = json_data[\"fields\"][1][\"values\"]\n",
    "results_data =json_data[\"results\"]"
   ]
  },
  {
   "cell_type": "code",
   "execution_count": 135,
   "metadata": {},
   "outputs": [
    {
     "data": {
      "text/plain": [
       "'사람'"
      ]
     },
     "execution_count": 135,
     "metadata": {},
     "output_type": "execute_result"
    }
   ],
   "source": [
    "fields_object_data[\"children\"][0][\"label\"]"
   ]
  },
  {
   "cell_type": "code",
   "execution_count": 170,
   "metadata": {},
   "outputs": [
    {
     "data": {
      "text/plain": [
       "'파랑'"
      ]
     },
     "execution_count": 170,
     "metadata": {},
     "output_type": "execute_result"
    }
   ],
   "source": [
    "fields_color_data[\"children\"][1][\"label\"]"
   ]
  },
  {
   "cell_type": "code",
   "execution_count": 174,
   "metadata": {},
   "outputs": [
    {
     "data": {
      "text/plain": [
       "['1', False, '3', False]"
      ]
     },
     "execution_count": 174,
     "metadata": {},
     "output_type": "execute_result"
    }
   ],
   "source": []
  },
  {
   "cell_type": "code",
   "execution_count": 5,
   "metadata": {},
   "outputs": [
    {
     "name": "stdout",
     "output_type": "stream",
     "text": [
      "['1', False, '3', False]\n"
     ]
    },
    {
     "ename": "TypeError",
     "evalue": "'in <string>' requires string as left operand, not list",
     "output_type": "error",
     "traceback": [
      "\u001b[1;31m---------------------------------------------------------------------------\u001b[0m",
      "\u001b[1;31mTypeError\u001b[0m                                 Traceback (most recent call last)",
      "\u001b[1;32md:\\ph\\khanjang\\test.ipynb Cell 9'\u001b[0m in \u001b[0;36m<cell line: 4>\u001b[1;34m()\u001b[0m\n\u001b[0;32m      <a href='vscode-notebook-cell:/d%3A/ph/khanjang/test.ipynb#ch0000008?line=6'>7</a>\u001b[0m         \u001b[39mif\u001b[39;00m \u001b[39mtype\u001b[39m[\u001b[39m\"\u001b[39m\u001b[39mobject\u001b[39m\u001b[39m\"\u001b[39m] \u001b[39m==\u001b[39m fields_object_data[\u001b[39m\"\u001b[39m\u001b[39mchildren\u001b[39m\u001b[39m\"\u001b[39m][i][\u001b[39m\"\u001b[39m\u001b[39mvalue\u001b[39m\u001b[39m\"\u001b[39m]:\n\u001b[0;32m      <a href='vscode-notebook-cell:/d%3A/ph/khanjang/test.ipynb#ch0000008?line=7'>8</a>\u001b[0m             object_list\u001b[39m.\u001b[39mappend(fields_object_data[\u001b[39m\"\u001b[39m\u001b[39mchildren\u001b[39m\u001b[39m\"\u001b[39m][i][\u001b[39m\"\u001b[39m\u001b[39mlabel\u001b[39m\u001b[39m\"\u001b[39m])\n\u001b[1;32m----> <a href='vscode-notebook-cell:/d%3A/ph/khanjang/test.ipynb#ch0000008?line=8'>9</a>\u001b[0m         \u001b[39mif\u001b[39;00m \u001b[39mtype\u001b[39;49m[\u001b[39m\"\u001b[39;49m\u001b[39mcolor\u001b[39;49m\u001b[39m\"\u001b[39;49m] \u001b[39min\u001b[39;49;00m fields_color_data[\u001b[39m\"\u001b[39;49m\u001b[39mchildren\u001b[39;49m\u001b[39m\"\u001b[39;49m][i][\u001b[39m\"\u001b[39;49m\u001b[39mvalue\u001b[39;49m\u001b[39m\"\u001b[39;49m]:\n\u001b[0;32m     <a href='vscode-notebook-cell:/d%3A/ph/khanjang/test.ipynb#ch0000008?line=9'>10</a>\u001b[0m             color_list\u001b[39m.\u001b[39mappend(fields_color_data[\u001b[39m\"\u001b[39m\u001b[39mchildren\u001b[39m\u001b[39m\"\u001b[39m][i][\u001b[39m\"\u001b[39m\u001b[39mlabel\u001b[39m\u001b[39m\"\u001b[39m])\n\u001b[0;32m     <a href='vscode-notebook-cell:/d%3A/ph/khanjang/test.ipynb#ch0000008?line=10'>11</a>\u001b[0m \u001b[39mprint\u001b[39m(color_list)\n",
      "\u001b[1;31mTypeError\u001b[0m: 'in <string>' requires string as left operand, not list"
     ]
    }
   ],
   "source": [
    "object_list = []\n",
    "color_list = []\n",
    "\n",
    "for type in results_data:\n",
    "    print(type[\"color\"])\n",
    "    for i in range(len(fields_object_data)):\n",
    "        if type[\"object\"] == fields_object_data[\"children\"][i][\"value\"]:\n",
    "            object_list.append(fields_object_data[\"children\"][i][\"label\"])\n",
    "        if type[\"color\"] in fields_color_data[\"children\"][i][\"value\"]:\n",
    "            color_list.append(fields_color_data[\"children\"][i][\"label\"])\n",
    "print(color_list)\n",
    "object_dict = {\"object\": object_list}\n",
    "object_dict\n",
    "df = pd.DataFrame(object_dict)\n",
    "df"
   ]
  },
  {
   "cell_type": "code",
   "execution_count": 5,
   "metadata": {},
   "outputs": [
    {
     "name": "stdout",
     "output_type": "stream",
     "text": [
      "[2, 3, 5, 6]\n",
      "[6]\n",
      "[1, 2, 3, 4, 5, 6, 7]\n",
      "정답입니다.\n"
     ]
    }
   ],
   "source": [
    "# [결과물 제출]\n",
    "# 아래 코드 중 \"# TODO:\" 부분에 자유롭게 코드를 작성해서 수행하시면 됩니다.\n",
    "array = [1, 5, 2, 6, 3, 7, 4]\n",
    "commands = [[2, 5, 3], [4, 4, 1], [1, 7, 3]]\n",
    "\n",
    "def solution(a, c):\n",
    "    # TODO: 해당 함수를 구현해 주세요.\n",
    "    answer=[]\n",
    "    for i in range(len(c)):\n",
    "        sort_array=sorted(a[c[i][0]-1:c[i][1]])\n",
    "        sort_array_num=sort_array[c[i][2]-1]\n",
    "        answer.append(sort_array_num)\n",
    "    return answer\n",
    "    \n",
    "\n",
    "if solution(array, commands) == [5,6,3]:\n",
    "  print(\"정답입니다.\")\n",
    "else : \n",
    "  print(\"틀렸습니다.\")"
   ]
  },
  {
   "cell_type": "code",
   "execution_count": null,
   "metadata": {},
   "outputs": [],
   "source": [
    "import pandas as pd\n",
    "import json\n",
    "\n",
    "\n",
    "# 파일 경로 설정\n",
    "input2_file_path = '/content/problem_2_input.json'\n",
    "output2_file_path = '/content/problem_2_output.csv'\n",
    "\n",
    "# 변수 설정\n",
    "fields = dict()\n",
    "df_output2 = pd.DataFrame()\n",
    "\n",
    "# 입력 파일 불러오기\n",
    "with open(input2_file_path, \"r\") as file:\n",
    "  json_input2 = json.load(file)\n",
    "\n",
    "# fields 내용 저장\n",
    "for field in json_input2[\"fields\"]:\n",
    "  key = field[\"values\"][\"label\"]\n",
    "  values = {label_value[\"value\"]:label_value[\"label\"] for label_value in field[\"values\"][\"children\"]}\n",
    "  fields[key] = values\n",
    "\n",
    "# result 결과를 csv로 변환\n",
    "for result in json_input2[\"results\"]:\n",
    "  now_color = \",\".join([fields[\"color\"][c] for c in result[\"color\"] if c != False])\n",
    "  df_output2 = df_output2.append({\"object\":fields[\"object\"][result[\"object\"]], \"color\":now_color}, ignore_index=True)\n",
    "\n",
    "# csv 저장\n",
    "display(df_output2)\n",
    "df_output2.to_csv(output2_file_path, index=False)"
   ]
  }
 ],
 "metadata": {
  "kernelspec": {
   "display_name": "pydatavenv",
   "language": "python",
   "name": "pydatavenv"
  },
  "language_info": {
   "codemirror_mode": {
    "name": "ipython",
    "version": 3
   },
   "file_extension": ".py",
   "mimetype": "text/x-python",
   "name": "python",
   "nbconvert_exporter": "python",
   "pygments_lexer": "ipython3",
   "version": "3.9.12"
  },
  "orig_nbformat": 4,
  "vscode": {
   "interpreter": {
    "hash": "e192985ddef87c772df23cb188435062d52d86e3c36b01b17b381a7048f11748"
   }
  }
 },
 "nbformat": 4,
 "nbformat_minor": 2
}
